{
 "cells": [
  {
   "cell_type": "markdown",
   "id": "3eb68e77",
   "metadata": {},
   "source": [
    "## PySpark Notebook - NYC Taxi trip duration dataset \n",
    "<h2 style=\"color:#1E90FF;\">🟢:  Task 0 Loading spark session and dataset</h2>"
   ]
  },
  {
   "cell_type": "code",
   "execution_count": 8,
   "id": "821a92e4",
   "metadata": {},
   "outputs": [],
   "source": [
    "from pyspark.sql.functions import col, lit, when,date_diff,datediff, unix_timestamp, to_date, date_format\n",
    "from pyspark.sql import SparkSession, functions as F"
   ]
  },
  {
   "cell_type": "code",
   "execution_count": 9,
   "id": "d7dd57d2",
   "metadata": {},
   "outputs": [],
   "source": [
    "from pyspark.sql import SparkSession\n",
    "\n",
    "spark = SparkSession.builder \\\n",
    "    .appName(\"PySpark Practice\") \\\n",
    "    .config(\"spark.local.dir\", \"D:/spark-temp\") \\\n",
    "    .getOrCreate()"
   ]
  },
  {
   "cell_type": "code",
   "execution_count": 10,
   "id": "fc16fc0b",
   "metadata": {},
   "outputs": [],
   "source": [
    "df = spark.read.csv(\"../data/train.csv\", header=True, inferSchema=True)"
   ]
  },
  {
   "cell_type": "code",
   "execution_count": 11,
   "id": "f385e284",
   "metadata": {},
   "outputs": [
    {
     "name": "stdout",
     "output_type": "stream",
     "text": [
      "+---------+---------+-------------------+-------------------+---------------+------------------+------------------+------------------+------------------+------------------+-------------+\n",
      "|       id|vendor_id|    pickup_datetime|   dropoff_datetime|passenger_count|  pickup_longitude|   pickup_latitude| dropoff_longitude|  dropoff_latitude|store_and_fwd_flag|trip_duration|\n",
      "+---------+---------+-------------------+-------------------+---------------+------------------+------------------+------------------+------------------+------------------+-------------+\n",
      "|id2875421|        2|2016-03-14 17:24:55|2016-03-14 17:32:30|              1| -73.9821548461914| 40.76793670654297|-73.96463012695312|40.765602111816406|                 N|          455|\n",
      "|id2377394|        1|2016-06-12 00:43:35|2016-06-12 00:54:38|              1|-73.98041534423828|40.738563537597656|-73.99948120117188| 40.73115158081055|                 N|          663|\n",
      "|id3858529|        2|2016-01-19 11:35:24|2016-01-19 12:10:48|              1| -73.9790267944336|40.763938903808594|-74.00533294677734|40.710086822509766|                 N|         2124|\n",
      "|id3504673|        2|2016-04-06 19:32:31|2016-04-06 19:39:40|              1|-74.01004028320312|   40.719970703125|-74.01226806640625| 40.70671844482422|                 N|          429|\n",
      "|id2181028|        2|2016-03-26 13:30:55|2016-03-26 13:38:10|              1|-73.97305297851562|40.793209075927734| -73.9729232788086| 40.78252029418945|                 N|          435|\n",
      "+---------+---------+-------------------+-------------------+---------------+------------------+------------------+------------------+------------------+------------------+-------------+\n",
      "only showing top 5 rows\n",
      "\n"
     ]
    }
   ],
   "source": [
    "df.show(5)"
   ]
  },
  {
   "cell_type": "markdown",
   "id": "bccebcd1",
   "metadata": {},
   "source": [
    "<h2 style=\"color:#1E90FF;\">🟢 Task 1: Count the Total Number of Records</h2>\n"
   ]
  },
  {
   "cell_type": "code",
   "execution_count": 12,
   "id": "83d841e7",
   "metadata": {},
   "outputs": [
    {
     "data": {
      "text/plain": [
       "1458644"
      ]
     },
     "execution_count": 12,
     "metadata": {},
     "output_type": "execute_result"
    }
   ],
   "source": [
    "df.count()"
   ]
  },
  {
   "cell_type": "markdown",
   "id": "b47e000a",
   "metadata": {},
   "source": [
    "<h2 style=\"color:#1E90FF;\">🟢 Task 2: Show the First 10 Rows Without Truncation</h2>\n"
   ]
  },
  {
   "cell_type": "code",
   "execution_count": 13,
   "id": "419baa12",
   "metadata": {},
   "outputs": [
    {
     "name": "stdout",
     "output_type": "stream",
     "text": [
      "+---------+---------+-------------------+-------------------+---------------+------------------+------------------+------------------+------------------+------------------+-------------+\n",
      "|id       |vendor_id|pickup_datetime    |dropoff_datetime   |passenger_count|pickup_longitude  |pickup_latitude   |dropoff_longitude |dropoff_latitude  |store_and_fwd_flag|trip_duration|\n",
      "+---------+---------+-------------------+-------------------+---------------+------------------+------------------+------------------+------------------+------------------+-------------+\n",
      "|id2875421|2        |2016-03-14 17:24:55|2016-03-14 17:32:30|1              |-73.9821548461914 |40.76793670654297 |-73.96463012695312|40.765602111816406|N                 |455          |\n",
      "|id2377394|1        |2016-06-12 00:43:35|2016-06-12 00:54:38|1              |-73.98041534423828|40.738563537597656|-73.99948120117188|40.73115158081055 |N                 |663          |\n",
      "|id3858529|2        |2016-01-19 11:35:24|2016-01-19 12:10:48|1              |-73.9790267944336 |40.763938903808594|-74.00533294677734|40.710086822509766|N                 |2124         |\n",
      "|id3504673|2        |2016-04-06 19:32:31|2016-04-06 19:39:40|1              |-74.01004028320312|40.719970703125   |-74.01226806640625|40.70671844482422 |N                 |429          |\n",
      "|id2181028|2        |2016-03-26 13:30:55|2016-03-26 13:38:10|1              |-73.97305297851562|40.793209075927734|-73.9729232788086 |40.78252029418945 |N                 |435          |\n",
      "|id0801584|2        |2016-01-30 22:01:40|2016-01-30 22:09:03|6              |-73.98285675048828|40.74219512939453 |-73.99208068847656|40.749183654785156|N                 |443          |\n",
      "|id1813257|1        |2016-06-17 22:34:59|2016-06-17 22:40:40|4              |-73.9690170288086 |40.75783920288086 |-73.95740509033203|40.76589584350586 |N                 |341          |\n",
      "|id1324603|2        |2016-05-21 07:54:58|2016-05-21 08:20:49|1              |-73.96927642822266|40.79777908325195 |-73.92247009277344|40.76055908203125 |N                 |1551         |\n",
      "|id1301050|1        |2016-05-27 23:12:23|2016-05-27 23:16:38|1              |-73.99948120117188|40.738399505615234|-73.98578643798828|40.73281478881836 |N                 |255          |\n",
      "|id0012891|2        |2016-03-10 21:45:01|2016-03-10 22:05:26|1              |-73.98104858398438|40.74433898925781 |-73.9729995727539 |40.78998947143555 |N                 |1225         |\n",
      "+---------+---------+-------------------+-------------------+---------------+------------------+------------------+------------------+------------------+------------------+-------------+\n",
      "only showing top 10 rows\n",
      "\n"
     ]
    }
   ],
   "source": [
    "df.show(10, truncate=False)"
   ]
  },
  {
   "cell_type": "markdown",
   "id": "de5b0d6c",
   "metadata": {},
   "source": [
    "<h2 style=\"color:#1E90FF;\">🟢 Task 3: Count Distinct Values in <code>vendor_id</code></h2>\n"
   ]
  },
  {
   "cell_type": "code",
   "execution_count": 14,
   "id": "0dd66ec7",
   "metadata": {},
   "outputs": [
    {
     "data": {
      "text/plain": [
       "2"
      ]
     },
     "execution_count": 14,
     "metadata": {},
     "output_type": "execute_result"
    }
   ],
   "source": [
    "df.select(col('vendor_id')).distinct().count()"
   ]
  },
  {
   "cell_type": "markdown",
   "id": "1393f033",
   "metadata": {},
   "source": [
    "<h2 style=\"color:#1E90FF;\">🟢 Task 4: Find Min, Max, and Average of <code>trip_duration</code></h2>"
   ]
  },
  {
   "cell_type": "code",
   "execution_count": 15,
   "id": "64bdeb46",
   "metadata": {},
   "outputs": [
    {
     "name": "stdout",
     "output_type": "stream",
     "text": [
      "+------------------+\n",
      "|min(trip_duration)|\n",
      "+------------------+\n",
      "|                 1|\n",
      "+------------------+\n",
      "\n"
     ]
    }
   ],
   "source": [
    "df.select(F.min(col('trip_duration'))).show()"
   ]
  },
  {
   "cell_type": "code",
   "execution_count": 16,
   "id": "9bd95076",
   "metadata": {},
   "outputs": [
    {
     "name": "stdout",
     "output_type": "stream",
     "text": [
      "+------------------+\n",
      "|max(trip_duration)|\n",
      "+------------------+\n",
      "|           3526282|\n",
      "+------------------+\n",
      "\n"
     ]
    }
   ],
   "source": [
    "df.select(F.max(col('trip_duration'))).show()"
   ]
  },
  {
   "cell_type": "code",
   "execution_count": 17,
   "id": "dd893bbf",
   "metadata": {},
   "outputs": [
    {
     "name": "stdout",
     "output_type": "stream",
     "text": [
      "+------------------+\n",
      "|avg(trip_duration)|\n",
      "+------------------+\n",
      "| 959.4922729603659|\n",
      "+------------------+\n",
      "\n"
     ]
    }
   ],
   "source": [
    "df.select(F.avg(col('trip_duration'))).show()"
   ]
  },
  {
   "cell_type": "markdown",
   "id": "4db0320e",
   "metadata": {},
   "source": [
    "<h2 style=\"color:#1E90FF;\">🟢 Task 5: Filter Trips with <code>passenger_count</code> Greater Than 4</h2>\n"
   ]
  },
  {
   "cell_type": "code",
   "execution_count": 18,
   "id": "92fc1f0d",
   "metadata": {},
   "outputs": [
    {
     "name": "stdout",
     "output_type": "stream",
     "text": [
      "+---------+---------+-------------------+-------------------+---------------+------------------+-----------------+------------------+------------------+------------------+-------------+\n",
      "|       id|vendor_id|    pickup_datetime|   dropoff_datetime|passenger_count|  pickup_longitude|  pickup_latitude| dropoff_longitude|  dropoff_latitude|store_and_fwd_flag|trip_duration|\n",
      "+---------+---------+-------------------+-------------------+---------------+------------------+-----------------+------------------+------------------+------------------+-------------+\n",
      "|id0801584|        2|2016-01-30 22:01:40|2016-01-30 22:09:03|              6|-73.98285675048828|40.74219512939453|-73.99208068847656|40.749183654785156|                 N|          443|\n",
      "|id0675800|        2|2016-02-15 09:25:15|2016-02-15 09:35:49|              6|-73.97775268554688|40.75463104248047|-74.00167846679688| 40.75642013549805|                 N|          634|\n",
      "|id0913838|        2|2016-02-03 16:22:50|2016-02-03 16:37:20|              5|-73.97833251953125|40.75407028198242|-73.95973205566406| 40.77275848388672|                 N|          870|\n",
      "|id3508035|        2|2016-06-06 20:13:56|2016-06-06 20:45:20|              6|-73.78813171386719|40.64146041870117|-73.97177124023438| 40.74940872192383|                 N|         1884|\n",
      "|id2135557|        2|2016-05-25 13:19:56|2016-05-25 13:27:50|              5|-73.97028350830078|40.76483154296875|-73.95757293701172| 40.78247833251953|                 N|          474|\n",
      "+---------+---------+-------------------+-------------------+---------------+------------------+-----------------+------------------+------------------+------------------+-------------+\n",
      "only showing top 5 rows\n",
      "\n"
     ]
    }
   ],
   "source": [
    "df.filter(col('passenger_count') > 4).show(5)"
   ]
  },
  {
   "cell_type": "markdown",
   "id": "96ef4b45",
   "metadata": {},
   "source": [
    "<h2 style=\"color:#1E90FF;\">🟢 Task 6: Filter Trips with <code>trip_duration</code> &lt; 60 sec or &gt; 2 hrs</h2>\n"
   ]
  },
  {
   "cell_type": "code",
   "execution_count": 19,
   "id": "77b2a010",
   "metadata": {},
   "outputs": [
    {
     "name": "stdout",
     "output_type": "stream",
     "text": [
      "+---------+---------+-------------------+-------------------+---------------+------------------+------------------+------------------+------------------+------------------+-------------+\n",
      "|       id|vendor_id|    pickup_datetime|   dropoff_datetime|passenger_count|  pickup_longitude|   pickup_latitude| dropoff_longitude|  dropoff_latitude|store_and_fwd_flag|trip_duration|\n",
      "+---------+---------+-------------------+-------------------+---------------+------------------+------------------+------------------+------------------+------------------+-------------+\n",
      "|id1510700|        2|2016-02-20 21:58:13|2016-02-20 21:59:10|              1| -73.9583969116211| 40.77262878417969|-73.95513153076172| 40.77424240112305|                 N|           57|\n",
      "|id2954399|        1|2016-06-27 11:22:37|2016-06-27 11:23:17|              1|-74.00102996826172| 40.75665283203125| -74.0009994506836| 40.75662612915039|                 N|           40|\n",
      "|id3307903|        2|2016-02-20 04:03:06|2016-02-21 03:33:00|              3|-74.00810241699219| 40.74148941040039|-74.00995635986328|  40.7146110534668|                 N|        84594|\n",
      "|id3263580|        2|2016-05-21 12:46:46|2016-05-21 12:46:49|              2| -73.7823715209961|40.648765563964844| -73.7823715209961|40.648746490478516|                 N|            3|\n",
      "|id2730154|        2|2016-03-29 22:39:46|2016-03-29 22:40:44|              5| -73.9822006225586|  40.7318115234375|-73.97994995117188| 40.73481369018555|                 N|           58|\n",
      "+---------+---------+-------------------+-------------------+---------------+------------------+------------------+------------------+------------------+------------------+-------------+\n",
      "only showing top 5 rows\n",
      "\n"
     ]
    }
   ],
   "source": [
    "df.filter((col('trip_duration') < 60) | (col('trip_duration') > 60*60*2)).show(5)"
   ]
  },
  {
   "cell_type": "markdown",
   "id": "872288ae",
   "metadata": {},
   "source": [
    "<h2 style=\"color:#1E90FF;\">🟢 Task 7: Check for Nulls in Any Columns</h2>\n"
   ]
  },
  {
   "cell_type": "code",
   "execution_count": 20,
   "id": "adecdb07",
   "metadata": {},
   "outputs": [
    {
     "name": "stdout",
     "output_type": "stream",
     "text": [
      "Column: id, Null Count: 0\n",
      "Column: vendor_id, Null Count: 0\n",
      "Column: pickup_datetime, Null Count: 0\n",
      "Column: dropoff_datetime, Null Count: 0\n",
      "Column: passenger_count, Null Count: 0\n",
      "Column: pickup_longitude, Null Count: 0\n",
      "Column: pickup_latitude, Null Count: 0\n",
      "Column: dropoff_longitude, Null Count: 0\n",
      "Column: dropoff_latitude, Null Count: 0\n",
      "Column: store_and_fwd_flag, Null Count: 0\n",
      "Column: trip_duration, Null Count: 0\n"
     ]
    }
   ],
   "source": [
    "for c in df.columns:\n",
    "    print(f\"Column: {c}, Null Count: {df.filter(col(c).isNull()).count()}\")\n",
    "\n"
   ]
  },
  {
   "cell_type": "code",
   "execution_count": 21,
   "id": "afe28301",
   "metadata": {},
   "outputs": [
    {
     "name": "stdout",
     "output_type": "stream",
     "text": [
      "+---+---------+---------------+----------------+---------------+----------------+---------------+-----------------+----------------+------------------+-------------+\n",
      "| id|vendor_id|pickup_datetime|dropoff_datetime|passenger_count|pickup_longitude|pickup_latitude|dropoff_longitude|dropoff_latitude|store_and_fwd_flag|trip_duration|\n",
      "+---+---------+---------------+----------------+---------------+----------------+---------------+-----------------+----------------+------------------+-------------+\n",
      "|  0|        0|              0|               0|              0|               0|              0|                0|               0|                 0|            0|\n",
      "+---+---------+---------------+----------------+---------------+----------------+---------------+-----------------+----------------+------------------+-------------+\n",
      "\n"
     ]
    }
   ],
   "source": [
    "df.select([F.count(when(col(c).isNull(), c)).alias(c) for c in df.columns]).show()"
   ]
  },
  {
   "cell_type": "markdown",
   "id": "cd5a09de",
   "metadata": {},
   "source": [
    "<h2 style=\"color:#1E90FF;\">🟡 Task 8: Create a New Column for Trip Duration in Minutes</h2>\n"
   ]
  },
  {
   "cell_type": "code",
   "execution_count": 22,
   "id": "519974ee",
   "metadata": {},
   "outputs": [
    {
     "name": "stdout",
     "output_type": "stream",
     "text": [
      "+------------------------+-------------------+\n",
      "|trip_duration_in_minutes|    pickup_datetime|\n",
      "+------------------------+-------------------+\n",
      "|                     455|2016-03-14 17:24:55|\n",
      "|                     663|2016-06-12 00:43:35|\n",
      "|                    2124|2016-01-19 11:35:24|\n",
      "|                     429|2016-04-06 19:32:31|\n",
      "|                     435|2016-03-26 13:30:55|\n",
      "+------------------------+-------------------+\n",
      "only showing top 5 rows\n",
      "\n"
     ]
    }
   ],
   "source": [
    "df = df.withColumn('trip_duration_in_minutes',F.unix_timestamp(col('dropoff_datetime'))-F.unix_timestamp(col('pickup_datetime')))\n",
    "df.select(['trip_duration_in_minutes','pickup_datetime']).show(5)"
   ]
  },
  {
   "cell_type": "markdown",
   "id": "a16ea29c",
   "metadata": {},
   "source": [
    "<h2 style=\"color:#1E90FF;\">🟡 Task 9: Extract Hour of Day from <code>pickup_datetime</code></h2>\n"
   ]
  },
  {
   "cell_type": "code",
   "execution_count": 23,
   "id": "61873f22",
   "metadata": {},
   "outputs": [
    {
     "name": "stdout",
     "output_type": "stream",
     "text": [
      "+-----------+-------------------+\n",
      "|hour_of_day|    pickup_datetime|\n",
      "+-----------+-------------------+\n",
      "|         17|2016-03-14 17:24:55|\n",
      "|          0|2016-06-12 00:43:35|\n",
      "|         11|2016-01-19 11:35:24|\n",
      "|         19|2016-04-06 19:32:31|\n",
      "|         13|2016-03-26 13:30:55|\n",
      "+-----------+-------------------+\n",
      "only showing top 5 rows\n",
      "\n"
     ]
    }
   ],
   "source": [
    "df =  df.withColumn('hour_of_day',F.hour(col('pickup_datetime')))\n",
    "df.select(['hour_of_day','pickup_datetime']).show(5)"
   ]
  },
  {
   "cell_type": "markdown",
   "id": "5aacd6b5",
   "metadata": {},
   "source": [
    "<h2 style=\"color:#1E90FF;\">🟡 Task 10: Average Trip Duration Grouped by Hour of Day</h2>\n"
   ]
  },
  {
   "cell_type": "code",
   "execution_count": 24,
   "id": "38c0a7e6",
   "metadata": {},
   "outputs": [
    {
     "data": {
      "text/plain": [
       "['id',\n",
       " 'vendor_id',\n",
       " 'pickup_datetime',\n",
       " 'dropoff_datetime',\n",
       " 'passenger_count',\n",
       " 'pickup_longitude',\n",
       " 'pickup_latitude',\n",
       " 'dropoff_longitude',\n",
       " 'dropoff_latitude',\n",
       " 'store_and_fwd_flag',\n",
       " 'trip_duration',\n",
       " 'trip_duration_in_minutes',\n",
       " 'hour_of_day']"
      ]
     },
     "execution_count": 24,
     "metadata": {},
     "output_type": "execute_result"
    }
   ],
   "source": [
    "df.columns"
   ]
  },
  {
   "cell_type": "code",
   "execution_count": 25,
   "id": "612a28b4",
   "metadata": {},
   "outputs": [
    {
     "name": "stdout",
     "output_type": "stream",
     "text": [
      "+-----------+------------------+\n",
      "|hour_of_day|avg(trip_duration)|\n",
      "+-----------+------------------+\n",
      "|0          |936.6573016826923 |\n",
      "|1          |903.0871120790231 |\n",
      "|2          |892.3596265875457 |\n",
      "|3          |887.0993876589731 |\n",
      "|4          |921.976443768997  |\n",
      "|5          |822.2989601386482 |\n",
      "|6          |797.4349434552454 |\n",
      "|7          |831.758345323741  |\n",
      "|8          |924.5591994392496 |\n",
      "|9          |933.5289153599456 |\n",
      "|10         |933.3676054831365 |\n",
      "|11         |966.4302821426485 |\n",
      "|12         |993.5330791813337 |\n",
      "|13         |1032.2463587648483|\n",
      "|14         |1075.789263985355 |\n",
      "|15         |1118.8325326203505|\n",
      "|16         |1080.1462845769906|\n",
      "|17         |1030.581619444844 |\n",
      "|18         |981.583233995585  |\n",
      "|19         |894.3566793639544 |\n",
      "|20         |879.4615448663051 |\n",
      "|21         |890.5212211201521 |\n",
      "|22         |1023.4559210853253|\n",
      "|23         |925.0914093286523 |\n",
      "+-----------+------------------+\n",
      "\n"
     ]
    }
   ],
   "source": [
    "df.groupBy('hour_of_day').agg(F.avg('trip_duration')).orderBy('hour_of_day').show(24, truncate=False)"
   ]
  },
  {
   "cell_type": "markdown",
   "id": "f5d8f8f8",
   "metadata": {},
   "source": [
    "<h2 style=\"color:#1E90FF;\">🟡 Task 11: Number of Trips by Each Vendor</h2>\n"
   ]
  },
  {
   "cell_type": "code",
   "execution_count": 26,
   "id": "4b12bb0d",
   "metadata": {},
   "outputs": [
    {
     "name": "stdout",
     "output_type": "stream",
     "text": [
      "+---------+------+\n",
      "|vendor_id| count|\n",
      "+---------+------+\n",
      "|        1|678342|\n",
      "|        2|780302|\n",
      "+---------+------+\n",
      "\n"
     ]
    }
   ],
   "source": [
    "df.groupby('vendor_id').agg(F.count('vendor_id').alias('count')).show()"
   ]
  },
  {
   "cell_type": "code",
   "execution_count": 27,
   "id": "2347b91d",
   "metadata": {},
   "outputs": [
    {
     "name": "stdout",
     "output_type": "stream",
     "text": [
      "+---------+------+\n",
      "|vendor_id| count|\n",
      "+---------+------+\n",
      "|        1|678342|\n",
      "|        2|780302|\n",
      "+---------+------+\n",
      "\n"
     ]
    }
   ],
   "source": [
    "df.groupBy(\"vendor_id\").count().show()"
   ]
  },
  {
   "attachments": {
    "image-2.png": {
     "image/png": "[encoded data removed]"
    }
   },
   "cell_type": "markdown",
   "id": "9618f2ca",
   "metadata": {},
   "source": [
    "<h2 style=\"color:#1E90FF;\">🟡 Task 12: Calculate Geodesic Distance (Haversine Formula)</h2>\n",
    "\n",
    "![image-2.png](attachment:image-2.png)\n"
   ]
  },
  {
   "cell_type": "code",
   "execution_count": 28,
   "id": "26bab9cf",
   "metadata": {},
   "outputs": [
    {
     "name": "stdout",
     "output_type": "stream",
     "text": [
      "+---------+---------+-------------------+-------------------+---------------+------------------+------------------+------------------+------------------+------------------+-------------+------------------------+-----------+------------------+\n",
      "|id       |vendor_id|pickup_datetime    |dropoff_datetime   |passenger_count|pickup_longitude  |pickup_latitude   |dropoff_longitude |dropoff_latitude  |store_and_fwd_flag|trip_duration|trip_duration_in_minutes|hour_of_day|distance          |\n",
      "+---------+---------+-------------------+-------------------+---------------+------------------+------------------+------------------+------------------+------------------+-------------+------------------------+-----------+------------------+\n",
      "|id2875421|2        |2016-03-14 17:24:55|2016-03-14 17:32:30|1              |-73.9821548461914 |40.76793670654297 |-73.96463012695312|40.765602111816406|N                 |455          |455                     |17         |1.4985207796469109|\n",
      "|id2377394|1        |2016-06-12 00:43:35|2016-06-12 00:54:38|1              |-73.98041534423828|40.738563537597656|-73.99948120117188|40.73115158081055 |N                 |663          |663                     |0          |1.8055071687958897|\n",
      "|id3858529|2        |2016-01-19 11:35:24|2016-01-19 12:10:48|1              |-73.9790267944336 |40.763938903808594|-74.00533294677734|40.710086822509766|N                 |2124         |2124                    |11         |6.385098495252496 |\n",
      "|id3504673|2        |2016-04-06 19:32:31|2016-04-06 19:39:40|1              |-74.01004028320312|40.719970703125   |-74.01226806640625|40.70671844482422 |N                 |429          |429                     |19         |1.4854984227709382|\n",
      "|id2181028|2        |2016-03-26 13:30:55|2016-03-26 13:38:10|1              |-73.97305297851562|40.793209075927734|-73.9729232788086 |40.78252029418945 |N                 |435          |435                     |13         |1.1885884593338851|\n",
      "+---------+---------+-------------------+-------------------+---------------+------------------+------------------+------------------+------------------+------------------+-------------+------------------------+-----------+------------------+\n",
      "only showing top 5 rows\n",
      "\n"
     ]
    }
   ],
   "source": [
    "df = (\n",
    "    df.withColumn('pickup_longitude,radian',F.radians(col('pickup_longitude')))\n",
    "    .withColumn('pickup_latitude,radian',F.radians(col('pickup_latitude')))\n",
    "    .withColumn('dropoff_longitude,radian',F.radians(col('dropoff_longitude')))\n",
    "    .withColumn('dropoff_latitude,radian',F.radians(col('dropoff_latitude')))\n",
    ")\n",
    "df = (\n",
    "    df.withColumn('delta_longitude',col('dropoff_longitude,radian') - col('pickup_longitude,radian'))\n",
    "    .withColumn('delta_latitude',col('dropoff_latitude,radian') - col('pickup_latitude,radian'))\n",
    "    .withColumn('cos_pickup_latitude',F.cos(col('pickup_latitude,radian')))\n",
    "    .withColumn('cos_dropoff_latitude',F.cos(col('dropoff_latitude,radian')))\n",
    ")\n",
    "df = (\n",
    "    df.withColumn('sin_del_lat',F.sin(col('delta_latitude')/2))\n",
    "    .withColumn('sin_del_long',F.sin(col('delta_longitude')/2))\n",
    ")\n",
    "df = (\n",
    "    df.withColumn('sin_del_lat_sq',F.pow(col('sin_del_lat'),2))\n",
    "    .withColumn('sin_del_long_sq',F.pow(col('sin_del_long'),2))\n",
    ")\n",
    "df = (\n",
    "    df.withColumn('arc_sin',F.asin(F.sqrt(col('sin_del_lat_sq') + col('cos_pickup_latitude') * col('cos_dropoff_latitude') * col('sin_del_long_sq'))))\n",
    ")\n",
    "df = (\n",
    "    df.withColumn('distance',col('arc_sin') * 2 * 6371)\n",
    ")\n",
    "\n",
    "df = df.drop('pickup_longitude,radian','pickup_latitude,radian','dropoff_longitude,radian','dropoff_latitude,radian','delta_longitude','delta_latitude','cos_pickup_latitude','cos_dropoff_latitude','sin_del_lat','sin_del_long','sin_del_lat_sq','sin_del_long_sq','arc_sin')\n",
    " \n",
    "df.show(5, truncate=False)"
   ]
  },
  {
   "cell_type": "code",
   "execution_count": 29,
   "id": "fb2a3de9",
   "metadata": {},
   "outputs": [
    {
     "name": "stdout",
     "output_type": "stream",
     "text": [
      "+---------+---------+-------------------+-------------------+---------------+------------------+------------------+------------------+------------------+------------------+-------------+------------------------+-----------+------------------+\n",
      "|id       |vendor_id|pickup_datetime    |dropoff_datetime   |passenger_count|pickup_longitude  |pickup_latitude   |dropoff_longitude |dropoff_latitude  |store_and_fwd_flag|trip_duration|trip_duration_in_minutes|hour_of_day|distance          |\n",
      "+---------+---------+-------------------+-------------------+---------------+------------------+------------------+------------------+------------------+------------------+-------------+------------------------+-----------+------------------+\n",
      "|id2875421|2        |2016-03-14 17:24:55|2016-03-14 17:32:30|1              |-73.9821548461914 |40.76793670654297 |-73.96463012695312|40.765602111816406|N                 |455          |455                     |17         |1.4985207796469109|\n",
      "|id2377394|1        |2016-06-12 00:43:35|2016-06-12 00:54:38|1              |-73.98041534423828|40.738563537597656|-73.99948120117188|40.73115158081055 |N                 |663          |663                     |0          |1.8055071687958897|\n",
      "|id3858529|2        |2016-01-19 11:35:24|2016-01-19 12:10:48|1              |-73.9790267944336 |40.763938903808594|-74.00533294677734|40.710086822509766|N                 |2124         |2124                    |11         |6.385098495252496 |\n",
      "|id3504673|2        |2016-04-06 19:32:31|2016-04-06 19:39:40|1              |-74.01004028320312|40.719970703125   |-74.01226806640625|40.70671844482422 |N                 |429          |429                     |19         |1.4854984227709382|\n",
      "|id2181028|2        |2016-03-26 13:30:55|2016-03-26 13:38:10|1              |-73.97305297851562|40.793209075927734|-73.9729232788086 |40.78252029418945 |N                 |435          |435                     |13         |1.1885884593338851|\n",
      "+---------+---------+-------------------+-------------------+---------------+------------------+------------------+------------------+------------------+------------------+-------------+------------------------+-----------+------------------+\n",
      "only showing top 5 rows\n",
      "\n"
     ]
    }
   ],
   "source": [
    "df.show(5, truncate=False)"
   ]
  },
  {
   "cell_type": "markdown",
   "id": "fadb95f3",
   "metadata": {},
   "source": [
    "<h2 style=\"color:#1E90FF;\">🟡 Task 13: Filter Trips Outside NYC Bounding Box</h2>\n"
   ]
  },
  {
   "cell_type": "code",
   "execution_count": 30,
   "id": "00abf920",
   "metadata": {},
   "outputs": [
    {
     "name": "stdout",
     "output_type": "stream",
     "text": [
      "+---------+---------+-------------------+-------------------+---------------+------------------+------------------+------------------+------------------+------------------+-------------+------------------------+-----------+--------------------+\n",
      "|       id|vendor_id|    pickup_datetime|   dropoff_datetime|passenger_count|  pickup_longitude|   pickup_latitude| dropoff_longitude|  dropoff_latitude|store_and_fwd_flag|trip_duration|trip_duration_in_minutes|hour_of_day|            distance|\n",
      "+---------+---------+-------------------+-------------------+---------------+------------------+------------------+------------------+------------------+------------------+-------------+------------------------+-----------+--------------------+\n",
      "|id2358953|        2|2016-06-27 00:31:28|2016-06-27 01:06:44|              1|-73.87081909179688|40.773738861083984|-73.85749816894531|  41.0178108215332|                 N|         2116|                    2116|          0|  27.162649786661422|\n",
      "|id0015493|        1|2016-06-12 05:11:44|2016-06-12 05:52:35|              1|-74.00548553466797| 40.72861862182617|-73.64342498779297|40.670379638671875|                 N|         2451|                    2451|          5|   31.20158908050028|\n",
      "|id1859156|        1|2016-02-17 00:54:13|2016-02-17 01:36:27|              3|-73.96925354003906| 40.75404739379883|-73.59358215332031| 41.04386520385742|                 N|         2534|                    2534|          0|    45.1162722014043|\n",
      "|id3913560|        2|2016-01-11 22:48:55|2016-01-11 23:40:20|              2|-74.01265716552734|40.702178955078125| -74.3077621459961| 40.56734085083008|                 N|         3085|                    3085|         22|    29.0672101682108|\n",
      "|id2847779|        2|2016-03-24 14:50:06|2016-03-24 15:44:16|              1|-73.78839874267578| 40.64215850830078|-73.75910186767578| 40.94437026977539|                 N|         3250|                    3250|         14|   33.69479489700311|\n",
      "|id3502250|        1|2016-03-11 20:10:29|2016-03-11 20:51:41|              1|-73.87459564208984| 40.77408218383789| -73.6120376586914| 40.65959548950195|                 N|         2472|                    2472|         20|   25.52878636885931|\n",
      "|id1692209|        1|2016-01-26 01:36:12|2016-01-26 02:32:24|              1| -73.7795639038086| 40.64692306518555|-74.26725769042969| 40.80601119995117|                 N|         3372|                    3372|          1|   44.74204018717826|\n",
      "|id0655400|        2|2016-05-07 15:11:33|2016-05-07 16:03:34|              1|-73.78868865966797| 40.64198684692383| -73.8431396484375|40.944393157958984|                 N|         3121|                    3121|         15|  33.937035792032376|\n",
      "|id0304778|        1|2016-02-23 20:38:44|2016-02-23 21:19:17|              1|-73.98292541503906|  40.7618408203125|-74.37963104248047| 40.74527359008789|                 N|         2433|                    2433|         20|  33.466368423260704|\n",
      "|id1782120|        2|2016-04-04 06:55:02|2016-04-04 08:08:03|              2|-73.97667694091797|40.765071868896484|-73.65351104736328|40.628108978271484|                 N|         4381|                    4381|          6|  31.212193501895904|\n",
      "|id3022813|        1|2016-06-15 18:02:41|2016-06-15 18:03:18|              1|-73.55828857421875| 40.78122329711914|-73.55828094482422|40.781227111816406|                 N|           37|                      37|         18|7.697885065897317E-4|\n",
      "|id2894145|        2|2016-06-30 06:27:14|2016-06-30 06:50:46|              5|-73.78186798095703| 40.64482116699219| -73.6865463256836|40.741790771484375|                 N|         1412|                    1412|          6|  13.447974203963602|\n",
      "|id3732171|        2|2016-01-29 01:58:53|2016-01-29 02:34:25|              1|-73.97647094726562| 40.75284957885742| -73.8281478881836| 40.92599868774414|                 N|         2132|                    2132|          1|  22.942928092630293|\n",
      "|id1092161|        1|2016-04-15 22:35:08|2016-04-16 00:34:21|              1|-73.78179168701172|40.644718170166016|-72.71139526367188|41.311519622802734|                 N|         7153|                    7153|         22|  116.49642411328979|\n",
      "|id0633635|        1|2016-03-02 13:47:18|2016-03-02 14:53:25|              1|-73.99402618408203|40.715553283691406|-73.93074035644531| 41.08654022216797|                 N|         3967|                    3967|         13|   41.59335066957244|\n",
      "|id3770021|        1|2016-02-17 18:59:56|2016-02-17 19:40:11|              1| -73.8620376586914| 40.76464080810547|-73.54215240478516|  41.0522575378418|                 Y|         2415|                    2415|         18|   41.77861920265253|\n",
      "|id3733479|        2|2016-05-22 03:58:40|2016-05-22 03:59:02|              1| -74.3470687866211|40.708518981933594| -74.3470687866211| 40.70852279663086|                 N|           22|                      22|          3|4.241749828731711E-4|\n",
      "|id2286908|        1|2016-06-01 23:54:19|2016-06-02 00:32:11|              1|-73.86384582519531| 40.76969528198242| -73.4439468383789| 40.78232192993164|                 N|         2272|                    2272|         23|  35.385184566531905|\n",
      "|id3092519|        1|2016-03-15 18:34:52|2016-03-15 18:35:34|              1| -73.6485595703125|40.657745361328125| -73.6485595703125| 40.65774154663086|                 N|           42|                      42|         18|4.241749828731711E-4|\n",
      "|id2873438|        2|2016-05-11 14:27:07|2016-05-11 15:23:57|              1|-73.86388397216797|40.770076751708984| -73.5495834350586| 40.90056610107422|                 N|         3410|                    3410|         14|   30.16128044797889|\n",
      "+---------+---------+-------------------+-------------------+---------------+------------------+------------------+------------------+------------------+------------------+-------------+------------------------+-----------+--------------------+\n",
      "only showing top 20 rows\n",
      "\n"
     ]
    }
   ],
   "source": [
    "nyc_bounds = {\n",
    "    \"min_lat\": 40.4774, \"max_lat\": 40.9176,\n",
    "    \"min_lon\": -74.2591, \"max_lon\": -73.7004\n",
    "}\n",
    "\n",
    "df.filter(\n",
    "    (col(\"pickup_latitude\") < nyc_bounds[\"min_lat\"]) |\n",
    "    (col(\"pickup_latitude\") > nyc_bounds[\"max_lat\"]) |\n",
    "    (col(\"pickup_longitude\") < nyc_bounds[\"min_lon\"]) |\n",
    "    (col(\"pickup_longitude\") > nyc_bounds[\"max_lon\"]) |\n",
    "    (col(\"dropoff_latitude\") < nyc_bounds[\"min_lat\"]) |\n",
    "    (col(\"dropoff_latitude\") > nyc_bounds[\"max_lat\"]) |\n",
    "    (col(\"dropoff_longitude\") < nyc_bounds[\"min_lon\"]) |\n",
    "    (col(\"dropoff_longitude\") > nyc_bounds[\"max_lon\"])\n",
    ").show()\n"
   ]
  },
  {
   "cell_type": "markdown",
   "id": "8a6236dd",
   "metadata": {},
   "source": [
    "<h2 style=\"color:#1E90FF;\">🟡 Task 14: Group by <code>passenger_count</code> and Find Avg <code>trip_duration</code></h2>\n"
   ]
  },
  {
   "cell_type": "code",
   "execution_count": 31,
   "id": "1071ec29",
   "metadata": {},
   "outputs": [
    {
     "name": "stdout",
     "output_type": "stream",
     "text": [
      "+---------------+------------------+\n",
      "|passenger_count|avg(trip_duration)|\n",
      "+---------------+------------------+\n",
      "|0              |1718.4333333333334|\n",
      "|1              |930.3997532751514 |\n",
      "|2              |1005.4583345220095|\n",
      "|3              |1028.236276212101 |\n",
      "|4              |1053.5297493310802|\n",
      "+---------------+------------------+\n",
      "only showing top 5 rows\n",
      "\n"
     ]
    }
   ],
   "source": [
    "df.groupBy('passenger_count').agg(F.avg('trip_duration')).orderBy('passenger_count').show(5, truncate=False)"
   ]
  },
  {
   "cell_type": "markdown",
   "id": "77192894",
   "metadata": {},
   "source": [
    "<h2 style=\"color:#1E90FF;\">🔴 Task 15: Top 5 Pickup Hours with Longest Average Trip Duration</h2>\n"
   ]
  },
  {
   "cell_type": "code",
   "execution_count": 32,
   "id": "a5140a23",
   "metadata": {},
   "outputs": [
    {
     "name": "stdout",
     "output_type": "stream",
     "text": [
      "+---------------------+------------------+\n",
      "|hour(pickup_datetime)|td                |\n",
      "+---------------------+------------------+\n",
      "|15                   |1118.8325326203505|\n",
      "|16                   |1080.1462845769906|\n",
      "|14                   |1075.789263985355 |\n",
      "|13                   |1032.2463587648483|\n",
      "|17                   |1030.581619444844 |\n",
      "+---------------------+------------------+\n",
      "only showing top 5 rows\n",
      "\n"
     ]
    }
   ],
   "source": [
    "df.groupBy(F.hour('pickup_datetime')).agg(F.avg('trip_duration').alias('td')).orderBy(F.desc('td')).show(5, truncate=False)"
   ]
  },
  {
   "cell_type": "markdown",
   "id": "2d337108",
   "metadata": {},
   "source": [
    "<h2 style=\"color:#1E90FF;\">🔴 Task 16: Create Bins for Trip Duration (0–5, 5–10, 10–20 mins)</h2>\n"
   ]
  },
  {
   "cell_type": "code",
   "execution_count": 33,
   "id": "32802da6",
   "metadata": {},
   "outputs": [
    {
     "data": {
      "text/plain": [
       "['id',\n",
       " 'vendor_id',\n",
       " 'pickup_datetime',\n",
       " 'dropoff_datetime',\n",
       " 'passenger_count',\n",
       " 'pickup_longitude',\n",
       " 'pickup_latitude',\n",
       " 'dropoff_longitude',\n",
       " 'dropoff_latitude',\n",
       " 'store_and_fwd_flag',\n",
       " 'trip_duration',\n",
       " 'trip_duration_in_minutes',\n",
       " 'hour_of_day',\n",
       " 'distance']"
      ]
     },
     "execution_count": 33,
     "metadata": {},
     "output_type": "execute_result"
    }
   ],
   "source": [
    "df.columns"
   ]
  },
  {
   "cell_type": "code",
   "execution_count": 34,
   "id": "e8cdafd4",
   "metadata": {},
   "outputs": [
    {
     "ename": "AnalysisException",
     "evalue": "[UNRESOLVED_COLUMN.WITH_SUGGESTION] A column or function parameter with name `trip_duration_minutes` cannot be resolved. Did you mean one of the following? [`trip_duration_in_minutes`, `trip_duration`, `pickup_longitude`, `dropoff_longitude`, `dropoff_latitude`].;\n'Project [id#56, vendor_id#57, pickup_datetime#58, dropoff_datetime#59, passenger_count#60, pickup_longitude#61, pickup_latitude#62, dropoff_longitude#63, dropoff_latitude#64, store_and_fwd_flag#65, trip_duration#66, trip_duration_in_minutes#690L, hour_of_day#716, distance#1111, CASE WHEN ('trip_duration_minutes <= 5) THEN 1 ELSE 0 END AS 0-5min#1433]\n+- Project [id#56, vendor_id#57, pickup_datetime#58, dropoff_datetime#59, passenger_count#60, pickup_longitude#61, pickup_latitude#62, dropoff_longitude#63, dropoff_latitude#64, store_and_fwd_flag#65, trip_duration#66, trip_duration_in_minutes#690L, hour_of_day#716, distance#1111]\n   +- Project [id#56, vendor_id#57, pickup_datetime#58, dropoff_datetime#59, passenger_count#60, pickup_longitude#61, pickup_latitude#62, dropoff_longitude#63, dropoff_latitude#64, store_and_fwd_flag#65, trip_duration#66, trip_duration_in_minutes#690L, hour_of_day#716, pickup_longitude,radian#838, pickup_latitude,radian#853, dropoff_longitude,radian#869, dropoff_latitude,radian#886, delta_longitude#904, delta_latitude#923, cos_pickup_latitude#943, cos_dropoff_latitude#964, sin_del_lat#986, sin_del_long#1009, sin_del_lat_sq#1033, ... 3 more fields]\n      +- Project [id#56, vendor_id#57, pickup_datetime#58, dropoff_datetime#59, passenger_count#60, pickup_longitude#61, pickup_latitude#62, dropoff_longitude#63, dropoff_latitude#64, store_and_fwd_flag#65, trip_duration#66, trip_duration_in_minutes#690L, hour_of_day#716, pickup_longitude,radian#838, pickup_latitude,radian#853, dropoff_longitude,radian#869, dropoff_latitude,radian#886, delta_longitude#904, delta_latitude#923, cos_pickup_latitude#943, cos_dropoff_latitude#964, sin_del_lat#986, sin_del_long#1009, sin_del_lat_sq#1033, ... 2 more fields]\n         +- Project [id#56, vendor_id#57, pickup_datetime#58, dropoff_datetime#59, passenger_count#60, pickup_longitude#61, pickup_latitude#62, dropoff_longitude#63, dropoff_latitude#64, store_and_fwd_flag#65, trip_duration#66, trip_duration_in_minutes#690L, hour_of_day#716, pickup_longitude,radian#838, pickup_latitude,radian#853, dropoff_longitude,radian#869, dropoff_latitude,radian#886, delta_longitude#904, delta_latitude#923, cos_pickup_latitude#943, cos_dropoff_latitude#964, sin_del_lat#986, sin_del_long#1009, sin_del_lat_sq#1033, POWER(sin_del_long#1009, cast(2 as double)) AS sin_del_long_sq#1058]\n            +- Project [id#56, vendor_id#57, pickup_datetime#58, dropoff_datetime#59, passenger_count#60, pickup_longitude#61, pickup_latitude#62, dropoff_longitude#63, dropoff_latitude#64, store_and_fwd_flag#65, trip_duration#66, trip_duration_in_minutes#690L, hour_of_day#716, pickup_longitude,radian#838, pickup_latitude,radian#853, dropoff_longitude,radian#869, dropoff_latitude,radian#886, delta_longitude#904, delta_latitude#923, cos_pickup_latitude#943, cos_dropoff_latitude#964, sin_del_lat#986, sin_del_long#1009, POWER(sin_del_lat#986, cast(2 as double)) AS sin_del_lat_sq#1033]\n               +- Project [id#56, vendor_id#57, pickup_datetime#58, dropoff_datetime#59, passenger_count#60, pickup_longitude#61, pickup_latitude#62, dropoff_longitude#63, dropoff_latitude#64, store_and_fwd_flag#65, trip_duration#66, trip_duration_in_minutes#690L, hour_of_day#716, pickup_longitude,radian#838, pickup_latitude,radian#853, dropoff_longitude,radian#869, dropoff_latitude,radian#886, delta_longitude#904, delta_latitude#923, cos_pickup_latitude#943, cos_dropoff_latitude#964, sin_del_lat#986, SIN((delta_longitude#904 / cast(2 as double))) AS sin_del_long#1009]\n                  +- Project [id#56, vendor_id#57, pickup_datetime#58, dropoff_datetime#59, passenger_count#60, pickup_longitude#61, pickup_latitude#62, dropoff_longitude#63, dropoff_latitude#64, store_and_fwd_flag#65, trip_duration#66, trip_duration_in_minutes#690L, hour_of_day#716, pickup_longitude,radian#838, pickup_latitude,radian#853, dropoff_longitude,radian#869, dropoff_latitude,radian#886, delta_longitude#904, delta_latitude#923, cos_pickup_latitude#943, cos_dropoff_latitude#964, SIN((delta_latitude#923 / cast(2 as double))) AS sin_del_lat#986]\n                     +- Project [id#56, vendor_id#57, pickup_datetime#58, dropoff_datetime#59, passenger_count#60, pickup_longitude#61, pickup_latitude#62, dropoff_longitude#63, dropoff_latitude#64, store_and_fwd_flag#65, trip_duration#66, trip_duration_in_minutes#690L, hour_of_day#716, pickup_longitude,radian#838, pickup_latitude,radian#853, dropoff_longitude,radian#869, dropoff_latitude,radian#886, delta_longitude#904, delta_latitude#923, cos_pickup_latitude#943, COS(dropoff_latitude,radian#886) AS cos_dropoff_latitude#964]\n                        +- Project [id#56, vendor_id#57, pickup_datetime#58, dropoff_datetime#59, passenger_count#60, pickup_longitude#61, pickup_latitude#62, dropoff_longitude#63, dropoff_latitude#64, store_and_fwd_flag#65, trip_duration#66, trip_duration_in_minutes#690L, hour_of_day#716, pickup_longitude,radian#838, pickup_latitude,radian#853, dropoff_longitude,radian#869, dropoff_latitude,radian#886, delta_longitude#904, delta_latitude#923, COS(pickup_latitude,radian#853) AS cos_pickup_latitude#943]\n                           +- Project [id#56, vendor_id#57, pickup_datetime#58, dropoff_datetime#59, passenger_count#60, pickup_longitude#61, pickup_latitude#62, dropoff_longitude#63, dropoff_latitude#64, store_and_fwd_flag#65, trip_duration#66, trip_duration_in_minutes#690L, hour_of_day#716, pickup_longitude,radian#838, pickup_latitude,radian#853, dropoff_longitude,radian#869, dropoff_latitude,radian#886, delta_longitude#904, (dropoff_latitude,radian#886 - pickup_latitude,radian#853) AS delta_latitude#923]\n                              +- Project [id#56, vendor_id#57, pickup_datetime#58, dropoff_datetime#59, passenger_count#60, pickup_longitude#61, pickup_latitude#62, dropoff_longitude#63, dropoff_latitude#64, store_and_fwd_flag#65, trip_duration#66, trip_duration_in_minutes#690L, hour_of_day#716, pickup_longitude,radian#838, pickup_latitude,radian#853, dropoff_longitude,radian#869, dropoff_latitude,radian#886, (dropoff_longitude,radian#869 - pickup_longitude,radian#838) AS delta_longitude#904]\n                                 +- Project [id#56, vendor_id#57, pickup_datetime#58, dropoff_datetime#59, passenger_count#60, pickup_longitude#61, pickup_latitude#62, dropoff_longitude#63, dropoff_latitude#64, store_and_fwd_flag#65, trip_duration#66, trip_duration_in_minutes#690L, hour_of_day#716, pickup_longitude,radian#838, pickup_latitude,radian#853, dropoff_longitude,radian#869, RADIANS(dropoff_latitude#64) AS dropoff_latitude,radian#886]\n                                    +- Project [id#56, vendor_id#57, pickup_datetime#58, dropoff_datetime#59, passenger_count#60, pickup_longitude#61, pickup_latitude#62, dropoff_longitude#63, dropoff_latitude#64, store_and_fwd_flag#65, trip_duration#66, trip_duration_in_minutes#690L, hour_of_day#716, pickup_longitude,radian#838, pickup_latitude,radian#853, RADIANS(dropoff_longitude#63) AS dropoff_longitude,radian#869]\n                                       +- Project [id#56, vendor_id#57, pickup_datetime#58, dropoff_datetime#59, passenger_count#60, pickup_longitude#61, pickup_latitude#62, dropoff_longitude#63, dropoff_latitude#64, store_and_fwd_flag#65, trip_duration#66, trip_duration_in_minutes#690L, hour_of_day#716, pickup_longitude,radian#838, RADIANS(pickup_latitude#62) AS pickup_latitude,radian#853]\n                                          +- Project [id#56, vendor_id#57, pickup_datetime#58, dropoff_datetime#59, passenger_count#60, pickup_longitude#61, pickup_latitude#62, dropoff_longitude#63, dropoff_latitude#64, store_and_fwd_flag#65, trip_duration#66, trip_duration_in_minutes#690L, hour_of_day#716, RADIANS(pickup_longitude#61) AS pickup_longitude,radian#838]\n                                             +- Project [id#56, vendor_id#57, pickup_datetime#58, dropoff_datetime#59, passenger_count#60, pickup_longitude#61, pickup_latitude#62, dropoff_longitude#63, dropoff_latitude#64, store_and_fwd_flag#65, trip_duration#66, trip_duration_in_minutes#690L, hour(pickup_datetime#58, Some(Europe/Berlin)) AS hour_of_day#716]\n                                                +- Project [id#56, vendor_id#57, pickup_datetime#58, dropoff_datetime#59, passenger_count#60, pickup_longitude#61, pickup_latitude#62, dropoff_longitude#63, dropoff_latitude#64, store_and_fwd_flag#65, trip_duration#66, (unix_timestamp(dropoff_datetime#59, yyyy-MM-dd HH:mm:ss, Some(Europe/Berlin), false) - unix_timestamp(pickup_datetime#58, yyyy-MM-dd HH:mm:ss, Some(Europe/Berlin), false)) AS trip_duration_in_minutes#690L]\n                                                   +- Relation [id#56,vendor_id#57,pickup_datetime#58,dropoff_datetime#59,passenger_count#60,pickup_longitude#61,pickup_latitude#62,dropoff_longitude#63,dropoff_latitude#64,store_and_fwd_flag#65,trip_duration#66] csv\n",
     "output_type": "error",
     "traceback": [
      "\u001b[1;31m---------------------------------------------------------------------------\u001b[0m",
      "\u001b[1;31mAnalysisException\u001b[0m                         Traceback (most recent call last)",
      "Cell \u001b[1;32mIn[34], line 2\u001b[0m\n\u001b[0;32m      1\u001b[0m df \u001b[38;5;241m=\u001b[39m (\n\u001b[1;32m----> 2\u001b[0m     \u001b[43mdf\u001b[49m\u001b[38;5;241;43m.\u001b[39;49m\u001b[43mwithColumn\u001b[49m\u001b[43m(\u001b[49m\u001b[38;5;124;43m'\u001b[39;49m\u001b[38;5;124;43m0-5min\u001b[39;49m\u001b[38;5;124;43m'\u001b[39;49m\u001b[43m,\u001b[49m\u001b[43m \u001b[49m\u001b[43mwhen\u001b[49m\u001b[43m(\u001b[49m\u001b[43mcol\u001b[49m\u001b[43m(\u001b[49m\u001b[38;5;124;43m'\u001b[39;49m\u001b[38;5;124;43mtrip_duration_minutes\u001b[39;49m\u001b[38;5;124;43m'\u001b[39;49m\u001b[43m)\u001b[49m\u001b[43m \u001b[49m\u001b[38;5;241;43m<\u001b[39;49m\u001b[38;5;241;43m=\u001b[39;49m\u001b[43m \u001b[49m\u001b[38;5;241;43m5\u001b[39;49m\u001b[43m,\u001b[49m\u001b[43m \u001b[49m\u001b[38;5;241;43m1\u001b[39;49m\u001b[43m)\u001b[49m\u001b[38;5;241;43m.\u001b[39;49m\u001b[43motherwise\u001b[49m\u001b[43m(\u001b[49m\u001b[38;5;241;43m0\u001b[39;49m\u001b[43m)\u001b[49m\u001b[43m)\u001b[49m\n\u001b[0;32m      3\u001b[0m     \u001b[38;5;241m.\u001b[39mwithColumn(\u001b[38;5;124m'\u001b[39m\u001b[38;5;124m5-10min\u001b[39m\u001b[38;5;124m'\u001b[39m, when((col(\u001b[38;5;124m\"\u001b[39m\u001b[38;5;124mtrip_duration_minutes\u001b[39m\u001b[38;5;124m\"\u001b[39m) \u001b[38;5;241m>\u001b[39m \u001b[38;5;241m5\u001b[39m) \u001b[38;5;241m&\u001b[39m (col(\u001b[38;5;124m\"\u001b[39m\u001b[38;5;124mtrip_duration_minutes\u001b[39m\u001b[38;5;124m\"\u001b[39m) \u001b[38;5;241m<\u001b[39m\u001b[38;5;241m=\u001b[39m \u001b[38;5;241m10\u001b[39m), \u001b[38;5;241m1\u001b[39m)\u001b[38;5;241m.\u001b[39motherwise(\u001b[38;5;241m0\u001b[39m))\n\u001b[0;32m      4\u001b[0m     \u001b[38;5;241m.\u001b[39mwithColumn(\u001b[38;5;124m'\u001b[39m\u001b[38;5;124m10-15min\u001b[39m\u001b[38;5;124m'\u001b[39m, when((col(\u001b[38;5;124m'\u001b[39m\u001b[38;5;124mtrip_duration_minutes\u001b[39m\u001b[38;5;124m'\u001b[39m) \u001b[38;5;241m>\u001b[39m \u001b[38;5;241m10\u001b[39m) \u001b[38;5;241m&\u001b[39m (col(\u001b[38;5;124m'\u001b[39m\u001b[38;5;124mtrip_duration_minutes\u001b[39m\u001b[38;5;124m'\u001b[39m) \u001b[38;5;241m<\u001b[39m\u001b[38;5;241m=\u001b[39m \u001b[38;5;241m20\u001b[39m), \u001b[38;5;241m1\u001b[39m)\u001b[38;5;241m.\u001b[39motherwise(\u001b[38;5;241m0\u001b[39m))\n\u001b[0;32m      5\u001b[0m     \u001b[38;5;241m.\u001b[39mwithColumn(\u001b[38;5;124m'\u001b[39m\u001b[38;5;124m15-20min\u001b[39m\u001b[38;5;124m'\u001b[39m, when((col(\u001b[38;5;124m'\u001b[39m\u001b[38;5;124mtrip_duration_minutes\u001b[39m\u001b[38;5;124m'\u001b[39m) \u001b[38;5;241m>\u001b[39m \u001b[38;5;241m20\u001b[39m), \u001b[38;5;241m1\u001b[39m)\u001b[38;5;241m.\u001b[39motherwise(\u001b[38;5;241m0\u001b[39m))\n\u001b[0;32m      6\u001b[0m )\n\u001b[0;32m      7\u001b[0m df\u001b[38;5;241m.\u001b[39mcount()\n\u001b[0;32m      8\u001b[0m \u001b[38;5;28mprint\u001b[39m(df\u001b[38;5;241m.\u001b[39mfilter(col(\u001b[38;5;124m'\u001b[39m\u001b[38;5;124m0-5min\u001b[39m\u001b[38;5;124m'\u001b[39m)\u001b[38;5;241m==\u001b[39m\u001b[38;5;241m1\u001b[39m)\u001b[38;5;241m.\u001b[39mcount())\n",
      "File \u001b[1;32mc:\\Users\\wasif\\.pyenv\\pyenv-win\\versions\\3.10.11\\lib\\site-packages\\pyspark\\sql\\dataframe.py:5176\u001b[0m, in \u001b[0;36mDataFrame.withColumn\u001b[1;34m(self, colName, col)\u001b[0m\n\u001b[0;32m   5171\u001b[0m \u001b[38;5;28;01mif\u001b[39;00m \u001b[38;5;129;01mnot\u001b[39;00m \u001b[38;5;28misinstance\u001b[39m(col, Column):\n\u001b[0;32m   5172\u001b[0m     \u001b[38;5;28;01mraise\u001b[39;00m PySparkTypeError(\n\u001b[0;32m   5173\u001b[0m         error_class\u001b[38;5;241m=\u001b[39m\u001b[38;5;124m\"\u001b[39m\u001b[38;5;124mNOT_COLUMN\u001b[39m\u001b[38;5;124m\"\u001b[39m,\n\u001b[0;32m   5174\u001b[0m         message_parameters\u001b[38;5;241m=\u001b[39m{\u001b[38;5;124m\"\u001b[39m\u001b[38;5;124marg_name\u001b[39m\u001b[38;5;124m\"\u001b[39m: \u001b[38;5;124m\"\u001b[39m\u001b[38;5;124mcol\u001b[39m\u001b[38;5;124m\"\u001b[39m, \u001b[38;5;124m\"\u001b[39m\u001b[38;5;124marg_type\u001b[39m\u001b[38;5;124m\"\u001b[39m: \u001b[38;5;28mtype\u001b[39m(col)\u001b[38;5;241m.\u001b[39m\u001b[38;5;18m__name__\u001b[39m},\n\u001b[0;32m   5175\u001b[0m     )\n\u001b[1;32m-> 5176\u001b[0m \u001b[38;5;28;01mreturn\u001b[39;00m DataFrame(\u001b[38;5;28;43mself\u001b[39;49m\u001b[38;5;241;43m.\u001b[39;49m\u001b[43m_jdf\u001b[49m\u001b[38;5;241;43m.\u001b[39;49m\u001b[43mwithColumn\u001b[49m\u001b[43m(\u001b[49m\u001b[43mcolName\u001b[49m\u001b[43m,\u001b[49m\u001b[43m \u001b[49m\u001b[43mcol\u001b[49m\u001b[38;5;241;43m.\u001b[39;49m\u001b[43m_jc\u001b[49m\u001b[43m)\u001b[49m, \u001b[38;5;28mself\u001b[39m\u001b[38;5;241m.\u001b[39msparkSession)\n",
      "File \u001b[1;32mc:\\Users\\wasif\\.pyenv\\pyenv-win\\versions\\3.10.11\\lib\\site-packages\\py4j\\java_gateway.py:1322\u001b[0m, in \u001b[0;36mJavaMember.__call__\u001b[1;34m(self, *args)\u001b[0m\n\u001b[0;32m   1316\u001b[0m command \u001b[38;5;241m=\u001b[39m proto\u001b[38;5;241m.\u001b[39mCALL_COMMAND_NAME \u001b[38;5;241m+\u001b[39m\\\n\u001b[0;32m   1317\u001b[0m     \u001b[38;5;28mself\u001b[39m\u001b[38;5;241m.\u001b[39mcommand_header \u001b[38;5;241m+\u001b[39m\\\n\u001b[0;32m   1318\u001b[0m     args_command \u001b[38;5;241m+\u001b[39m\\\n\u001b[0;32m   1319\u001b[0m     proto\u001b[38;5;241m.\u001b[39mEND_COMMAND_PART\n\u001b[0;32m   1321\u001b[0m answer \u001b[38;5;241m=\u001b[39m \u001b[38;5;28mself\u001b[39m\u001b[38;5;241m.\u001b[39mgateway_client\u001b[38;5;241m.\u001b[39msend_command(command)\n\u001b[1;32m-> 1322\u001b[0m return_value \u001b[38;5;241m=\u001b[39m \u001b[43mget_return_value\u001b[49m\u001b[43m(\u001b[49m\n\u001b[0;32m   1323\u001b[0m \u001b[43m    \u001b[49m\u001b[43manswer\u001b[49m\u001b[43m,\u001b[49m\u001b[43m \u001b[49m\u001b[38;5;28;43mself\u001b[39;49m\u001b[38;5;241;43m.\u001b[39;49m\u001b[43mgateway_client\u001b[49m\u001b[43m,\u001b[49m\u001b[43m \u001b[49m\u001b[38;5;28;43mself\u001b[39;49m\u001b[38;5;241;43m.\u001b[39;49m\u001b[43mtarget_id\u001b[49m\u001b[43m,\u001b[49m\u001b[43m \u001b[49m\u001b[38;5;28;43mself\u001b[39;49m\u001b[38;5;241;43m.\u001b[39;49m\u001b[43mname\u001b[49m\u001b[43m)\u001b[49m\n\u001b[0;32m   1325\u001b[0m \u001b[38;5;28;01mfor\u001b[39;00m temp_arg \u001b[38;5;129;01min\u001b[39;00m temp_args:\n\u001b[0;32m   1326\u001b[0m     \u001b[38;5;28;01mif\u001b[39;00m \u001b[38;5;28mhasattr\u001b[39m(temp_arg, \u001b[38;5;124m\"\u001b[39m\u001b[38;5;124m_detach\u001b[39m\u001b[38;5;124m\"\u001b[39m):\n",
      "File \u001b[1;32mc:\\Users\\wasif\\.pyenv\\pyenv-win\\versions\\3.10.11\\lib\\site-packages\\pyspark\\errors\\exceptions\\captured.py:185\u001b[0m, in \u001b[0;36mcapture_sql_exception.<locals>.deco\u001b[1;34m(*a, **kw)\u001b[0m\n\u001b[0;32m    181\u001b[0m converted \u001b[38;5;241m=\u001b[39m convert_exception(e\u001b[38;5;241m.\u001b[39mjava_exception)\n\u001b[0;32m    182\u001b[0m \u001b[38;5;28;01mif\u001b[39;00m \u001b[38;5;129;01mnot\u001b[39;00m \u001b[38;5;28misinstance\u001b[39m(converted, UnknownException):\n\u001b[0;32m    183\u001b[0m     \u001b[38;5;66;03m# Hide where the exception came from that shows a non-Pythonic\u001b[39;00m\n\u001b[0;32m    184\u001b[0m     \u001b[38;5;66;03m# JVM exception message.\u001b[39;00m\n\u001b[1;32m--> 185\u001b[0m     \u001b[38;5;28;01mraise\u001b[39;00m converted \u001b[38;5;28;01mfrom\u001b[39;00m\u001b[38;5;250m \u001b[39m\u001b[38;5;28;01mNone\u001b[39;00m\n\u001b[0;32m    186\u001b[0m \u001b[38;5;28;01melse\u001b[39;00m:\n\u001b[0;32m    187\u001b[0m     \u001b[38;5;28;01mraise\u001b[39;00m\n",
      "\u001b[1;31mAnalysisException\u001b[0m: [UNRESOLVED_COLUMN.WITH_SUGGESTION] A column or function parameter with name `trip_duration_minutes` cannot be resolved. Did you mean one of the following? [`trip_duration_in_minutes`, `trip_duration`, `pickup_longitude`, `dropoff_longitude`, `dropoff_latitude`].;\n'Project [id#56, vendor_id#57, pickup_datetime#58, dropoff_datetime#59, passenger_count#60, pickup_longitude#61, pickup_latitude#62, dropoff_longitude#63, dropoff_latitude#64, store_and_fwd_flag#65, trip_duration#66, trip_duration_in_minutes#690L, hour_of_day#716, distance#1111, CASE WHEN ('trip_duration_minutes <= 5) THEN 1 ELSE 0 END AS 0-5min#1433]\n+- Project [id#56, vendor_id#57, pickup_datetime#58, dropoff_datetime#59, passenger_count#60, pickup_longitude#61, pickup_latitude#62, dropoff_longitude#63, dropoff_latitude#64, store_and_fwd_flag#65, trip_duration#66, trip_duration_in_minutes#690L, hour_of_day#716, distance#1111]\n   +- Project [id#56, vendor_id#57, pickup_datetime#58, dropoff_datetime#59, passenger_count#60, pickup_longitude#61, pickup_latitude#62, dropoff_longitude#63, dropoff_latitude#64, store_and_fwd_flag#65, trip_duration#66, trip_duration_in_minutes#690L, hour_of_day#716, pickup_longitude,radian#838, pickup_latitude,radian#853, dropoff_longitude,radian#869, dropoff_latitude,radian#886, delta_longitude#904, delta_latitude#923, cos_pickup_latitude#943, cos_dropoff_latitude#964, sin_del_lat#986, sin_del_long#1009, sin_del_lat_sq#1033, ... 3 more fields]\n      +- Project [id#56, vendor_id#57, pickup_datetime#58, dropoff_datetime#59, passenger_count#60, pickup_longitude#61, pickup_latitude#62, dropoff_longitude#63, dropoff_latitude#64, store_and_fwd_flag#65, trip_duration#66, trip_duration_in_minutes#690L, hour_of_day#716, pickup_longitude,radian#838, pickup_latitude,radian#853, dropoff_longitude,radian#869, dropoff_latitude,radian#886, delta_longitude#904, delta_latitude#923, cos_pickup_latitude#943, cos_dropoff_latitude#964, sin_del_lat#986, sin_del_long#1009, sin_del_lat_sq#1033, ... 2 more fields]\n         +- Project [id#56, vendor_id#57, pickup_datetime#58, dropoff_datetime#59, passenger_count#60, pickup_longitude#61, pickup_latitude#62, dropoff_longitude#63, dropoff_latitude#64, store_and_fwd_flag#65, trip_duration#66, trip_duration_in_minutes#690L, hour_of_day#716, pickup_longitude,radian#838, pickup_latitude,radian#853, dropoff_longitude,radian#869, dropoff_latitude,radian#886, delta_longitude#904, delta_latitude#923, cos_pickup_latitude#943, cos_dropoff_latitude#964, sin_del_lat#986, sin_del_long#1009, sin_del_lat_sq#1033, POWER(sin_del_long#1009, cast(2 as double)) AS sin_del_long_sq#1058]\n            +- Project [id#56, vendor_id#57, pickup_datetime#58, dropoff_datetime#59, passenger_count#60, pickup_longitude#61, pickup_latitude#62, dropoff_longitude#63, dropoff_latitude#64, store_and_fwd_flag#65, trip_duration#66, trip_duration_in_minutes#690L, hour_of_day#716, pickup_longitude,radian#838, pickup_latitude,radian#853, dropoff_longitude,radian#869, dropoff_latitude,radian#886, delta_longitude#904, delta_latitude#923, cos_pickup_latitude#943, cos_dropoff_latitude#964, sin_del_lat#986, sin_del_long#1009, POWER(sin_del_lat#986, cast(2 as double)) AS sin_del_lat_sq#1033]\n               +- Project [id#56, vendor_id#57, pickup_datetime#58, dropoff_datetime#59, passenger_count#60, pickup_longitude#61, pickup_latitude#62, dropoff_longitude#63, dropoff_latitude#64, store_and_fwd_flag#65, trip_duration#66, trip_duration_in_minutes#690L, hour_of_day#716, pickup_longitude,radian#838, pickup_latitude,radian#853, dropoff_longitude,radian#869, dropoff_latitude,radian#886, delta_longitude#904, delta_latitude#923, cos_pickup_latitude#943, cos_dropoff_latitude#964, sin_del_lat#986, SIN((delta_longitude#904 / cast(2 as double))) AS sin_del_long#1009]\n                  +- Project [id#56, vendor_id#57, pickup_datetime#58, dropoff_datetime#59, passenger_count#60, pickup_longitude#61, pickup_latitude#62, dropoff_longitude#63, dropoff_latitude#64, store_and_fwd_flag#65, trip_duration#66, trip_duration_in_minutes#690L, hour_of_day#716, pickup_longitude,radian#838, pickup_latitude,radian#853, dropoff_longitude,radian#869, dropoff_latitude,radian#886, delta_longitude#904, delta_latitude#923, cos_pickup_latitude#943, cos_dropoff_latitude#964, SIN((delta_latitude#923 / cast(2 as double))) AS sin_del_lat#986]\n                     +- Project [id#56, vendor_id#57, pickup_datetime#58, dropoff_datetime#59, passenger_count#60, pickup_longitude#61, pickup_latitude#62, dropoff_longitude#63, dropoff_latitude#64, store_and_fwd_flag#65, trip_duration#66, trip_duration_in_minutes#690L, hour_of_day#716, pickup_longitude,radian#838, pickup_latitude,radian#853, dropoff_longitude,radian#869, dropoff_latitude,radian#886, delta_longitude#904, delta_latitude#923, cos_pickup_latitude#943, COS(dropoff_latitude,radian#886) AS cos_dropoff_latitude#964]\n                        +- Project [id#56, vendor_id#57, pickup_datetime#58, dropoff_datetime#59, passenger_count#60, pickup_longitude#61, pickup_latitude#62, dropoff_longitude#63, dropoff_latitude#64, store_and_fwd_flag#65, trip_duration#66, trip_duration_in_minutes#690L, hour_of_day#716, pickup_longitude,radian#838, pickup_latitude,radian#853, dropoff_longitude,radian#869, dropoff_latitude,radian#886, delta_longitude#904, delta_latitude#923, COS(pickup_latitude,radian#853) AS cos_pickup_latitude#943]\n                           +- Project [id#56, vendor_id#57, pickup_datetime#58, dropoff_datetime#59, passenger_count#60, pickup_longitude#61, pickup_latitude#62, dropoff_longitude#63, dropoff_latitude#64, store_and_fwd_flag#65, trip_duration#66, trip_duration_in_minutes#690L, hour_of_day#716, pickup_longitude,radian#838, pickup_latitude,radian#853, dropoff_longitude,radian#869, dropoff_latitude,radian#886, delta_longitude#904, (dropoff_latitude,radian#886 - pickup_latitude,radian#853) AS delta_latitude#923]\n                              +- Project [id#56, vendor_id#57, pickup_datetime#58, dropoff_datetime#59, passenger_count#60, pickup_longitude#61, pickup_latitude#62, dropoff_longitude#63, dropoff_latitude#64, store_and_fwd_flag#65, trip_duration#66, trip_duration_in_minutes#690L, hour_of_day#716, pickup_longitude,radian#838, pickup_latitude,radian#853, dropoff_longitude,radian#869, dropoff_latitude,radian#886, (dropoff_longitude,radian#869 - pickup_longitude,radian#838) AS delta_longitude#904]\n                                 +- Project [id#56, vendor_id#57, pickup_datetime#58, dropoff_datetime#59, passenger_count#60, pickup_longitude#61, pickup_latitude#62, dropoff_longitude#63, dropoff_latitude#64, store_and_fwd_flag#65, trip_duration#66, trip_duration_in_minutes#690L, hour_of_day#716, pickup_longitude,radian#838, pickup_latitude,radian#853, dropoff_longitude,radian#869, RADIANS(dropoff_latitude#64) AS dropoff_latitude,radian#886]\n                                    +- Project [id#56, vendor_id#57, pickup_datetime#58, dropoff_datetime#59, passenger_count#60, pickup_longitude#61, pickup_latitude#62, dropoff_longitude#63, dropoff_latitude#64, store_and_fwd_flag#65, trip_duration#66, trip_duration_in_minutes#690L, hour_of_day#716, pickup_longitude,radian#838, pickup_latitude,radian#853, RADIANS(dropoff_longitude#63) AS dropoff_longitude,radian#869]\n                                       +- Project [id#56, vendor_id#57, pickup_datetime#58, dropoff_datetime#59, passenger_count#60, pickup_longitude#61, pickup_latitude#62, dropoff_longitude#63, dropoff_latitude#64, store_and_fwd_flag#65, trip_duration#66, trip_duration_in_minutes#690L, hour_of_day#716, pickup_longitude,radian#838, RADIANS(pickup_latitude#62) AS pickup_latitude,radian#853]\n                                          +- Project [id#56, vendor_id#57, pickup_datetime#58, dropoff_datetime#59, passenger_count#60, pickup_longitude#61, pickup_latitude#62, dropoff_longitude#63, dropoff_latitude#64, store_and_fwd_flag#65, trip_duration#66, trip_duration_in_minutes#690L, hour_of_day#716, RADIANS(pickup_longitude#61) AS pickup_longitude,radian#838]\n                                             +- Project [id#56, vendor_id#57, pickup_datetime#58, dropoff_datetime#59, passenger_count#60, pickup_longitude#61, pickup_latitude#62, dropoff_longitude#63, dropoff_latitude#64, store_and_fwd_flag#65, trip_duration#66, trip_duration_in_minutes#690L, hour(pickup_datetime#58, Some(Europe/Berlin)) AS hour_of_day#716]\n                                                +- Project [id#56, vendor_id#57, pickup_datetime#58, dropoff_datetime#59, passenger_count#60, pickup_longitude#61, pickup_latitude#62, dropoff_longitude#63, dropoff_latitude#64, store_and_fwd_flag#65, trip_duration#66, (unix_timestamp(dropoff_datetime#59, yyyy-MM-dd HH:mm:ss, Some(Europe/Berlin), false) - unix_timestamp(pickup_datetime#58, yyyy-MM-dd HH:mm:ss, Some(Europe/Berlin), false)) AS trip_duration_in_minutes#690L]\n                                                   +- Relation [id#56,vendor_id#57,pickup_datetime#58,dropoff_datetime#59,passenger_count#60,pickup_longitude#61,pickup_latitude#62,dropoff_longitude#63,dropoff_latitude#64,store_and_fwd_flag#65,trip_duration#66] csv\n"
     ]
    }
   ],
   "source": [
    "df = (\n",
    "    df.withColumn('0-5min', when(col('trip_duration_minutes') <= 5, 1).otherwise(0))\n",
    "    .withColumn('5-10min', when((col(\"trip_duration_minutes\") > 5) & (col(\"trip_duration_minutes\") <= 10), 1).otherwise(0))\n",
    "    .withColumn('10-15min', when((col('trip_duration_minutes') > 10) & (col('trip_duration_minutes') <= 20), 1).otherwise(0))\n",
    "    .withColumn('15-20min', when((col('trip_duration_minutes') > 20), 1).otherwise(0))\n",
    ")\n",
    "df.count()\n",
    "print(df.filter(col('0-5min')==1).count())\n",
    "print(df.filter(col('5-10min')==1).count())\n",
    "print(df.filter(col('10-15min')==1).count())\n",
    "print(df.filter(col('15-20min')==1).count())\n"
   ]
  },
  {
   "cell_type": "code",
   "execution_count": null,
   "id": "a2ea97ba",
   "metadata": {},
   "outputs": [
    {
     "name": "stdout",
     "output_type": "stream",
     "text": [
      "+------------+------+\n",
      "|duration_bin| count|\n",
      "+------------+------+\n",
      "|         0-5|221974|\n",
      "|       10-20|510213|\n",
      "|         20+|295475|\n",
      "|        5-10|430982|\n",
      "+------------+------+\n",
      "\n"
     ]
    }
   ],
   "source": [
    "## better approach\n",
    "\n",
    "df = df.withColumn(\"duration_bin\",\n",
    "    when(col(\"trip_duration_minutes\") <= 5, \"0-5\")\n",
    "    .when((col(\"trip_duration_minutes\") > 5) & (col(\"trip_duration_minutes\") <= 10), \"5-10\")\n",
    "    .when((col(\"trip_duration_minutes\") > 10) & (col(\"trip_duration_minutes\") <= 20), \"10-20\")\n",
    "    .otherwise(\"20+\")\n",
    ")\n",
    "df.groupBy(\"duration_bin\").count().orderBy(\"duration_bin\").show()"
   ]
  },
  {
   "cell_type": "markdown",
   "id": "e7a75ad0",
   "metadata": {},
   "source": [
    "<h2 style=\"color:#1E90FF;\">🔴 Task 17: Calculate Trip Speed and Filter Outliers</h2>\n"
   ]
  },
  {
   "cell_type": "code",
   "execution_count": null,
   "id": "98b4c34e",
   "metadata": {},
   "outputs": [
    {
     "name": "stdout",
     "output_type": "stream",
     "text": [
      "+---------+---------+-------------------+-------------------+---------------+------------------+------------------+------------------+------------------+------------------+-------------+---------------------+------------------------+-----------+------------------+---+----+-----+-----+------+-------+--------+--------+------------------+------------+\n",
      "|id       |vendor_id|pickup_datetime    |dropoff_datetime   |passenger_count|pickup_longitude  |pickup_latitude   |dropoff_longitude |dropoff_latitude  |store_and_fwd_flag|trip_duration|trip_duration_minutes|trip_duration_in_minutes|hour_of_day|distance          |0-5|5-10|10-15|15-20|0-5min|5-10min|10-15min|15-20min|trip_speed        |duration_bin|\n",
      "+---------+---------+-------------------+-------------------+---------------+------------------+------------------+------------------+------------------+------------------+-------------+---------------------+------------------------+-----------+------------------+---+----+-----+-----+------+-------+--------+--------+------------------+------------+\n",
      "|id2875421|2        |2016-03-14 17:24:55|2016-03-14 17:32:30|1              |-73.9821548461914 |40.76793670654297 |-73.96463012695312|40.765602111816406|N                 |455          |7.583333333333333    |7.58                    |17         |1.4985207796469109|0  |0   |0    |0    |0     |1      |0       |0       |11.856428146656878|5-10        |\n",
      "|id2377394|1        |2016-06-12 00:43:35|2016-06-12 00:54:38|1              |-73.98041534423828|40.738563537597656|-73.99948120117188|40.73115158081055 |N                 |663          |11.05                |11.05                   |0          |1.8055071687958897|0  |0   |0    |0    |0     |0      |1       |0       |9.803658835090802 |10-20       |\n",
      "|id3858529|2        |2016-01-19 11:35:24|2016-01-19 12:10:48|1              |-73.9790267944336 |40.763938903808594|-74.00533294677734|40.710086822509766|N                 |2124         |35.4                 |35.4                    |11         |6.385098495252496 |0  |0   |0    |0    |0     |0      |0       |1       |10.82220083941101 |20+         |\n",
      "|id3504673|2        |2016-04-06 19:32:31|2016-04-06 19:39:40|1              |-74.01004028320312|40.719970703125   |-74.01226806640625|40.70671844482422 |N                 |429          |7.15                 |7.15                    |19         |1.4854984227709382|0  |0   |0    |0    |0     |1      |0       |0       |12.465721030245636|5-10        |\n",
      "|id2181028|2        |2016-03-26 13:30:55|2016-03-26 13:38:10|1              |-73.97305297851562|40.793209075927734|-73.9729232788086 |40.78252029418945 |N                 |435          |7.25                 |7.25                    |13         |1.1885884593338851|0  |0   |0    |0    |0     |1      |0       |0       |9.836594146211462 |5-10        |\n",
      "+---------+---------+-------------------+-------------------+---------------+------------------+------------------+------------------+------------------+------------------+-------------+---------------------+------------------------+-----------+------------------+---+----+-----+-----+------+-------+--------+--------+------------------+------------+\n",
      "only showing top 5 rows\n",
      "\n"
     ]
    }
   ],
   "source": [
    "df = df.withColumn('trip_speed', col('distance') / col('trip_duration_minutes') * 60)\n",
    "df.show(5, truncate=False)"
   ]
  },
  {
   "cell_type": "markdown",
   "id": "fb2bbd23",
   "metadata": {},
   "source": [
    "<h2 style=\"color:#1E90FF;\">🔴 Task 18: Analyze Trips with <code>store_and_fwd_flag</code> = \"Y\"</h2>\n"
   ]
  },
  {
   "cell_type": "code",
   "execution_count": null,
   "id": "b57cae19",
   "metadata": {},
   "outputs": [
    {
     "name": "stdout",
     "output_type": "stream",
     "text": [
      "+---------+------------+-----------------+\n",
      "|vendor_id|stored_trips|     avg_duration|\n",
      "+---------+------------+-----------------+\n",
      "|        1|        8045|1080.763331261653|\n",
      "+---------+------------+-----------------+\n",
      "\n"
     ]
    }
   ],
   "source": [
    "df.filter(col(\"store_and_fwd_flag\") == \"Y\").groupBy(\"vendor_id\").agg(\n",
    "    F.count(\"*\").alias(\"stored_trips\"),\n",
    "    F.avg(\"trip_duration\").alias(\"avg_duration\")\n",
    ").show()"
   ]
  },
  {
   "cell_type": "markdown",
   "id": "98e682ac",
   "metadata": {},
   "source": [
    "<h2 style=\"color:#1E90FF;\">🔴 Task 20:  Build a Simple Trip Duration Prediction Model Using PySpark ML</h2>\n"
   ]
  },
  {
   "cell_type": "code",
   "execution_count": null,
   "id": "be19984c",
   "metadata": {},
   "outputs": [
    {
     "data": {
      "text/plain": [
       "['id',\n",
       " 'vendor_id',\n",
       " 'pickup_datetime',\n",
       " 'dropoff_datetime',\n",
       " 'passenger_count',\n",
       " 'pickup_longitude',\n",
       " 'pickup_latitude',\n",
       " 'dropoff_longitude',\n",
       " 'dropoff_latitude',\n",
       " 'store_and_fwd_flag',\n",
       " 'trip_duration',\n",
       " 'trip_duration_minutes',\n",
       " 'trip_duration_in_minutes',\n",
       " 'hour_of_day',\n",
       " 'distance',\n",
       " '0-5',\n",
       " '5-10',\n",
       " '10-15',\n",
       " '15-20',\n",
       " '0-5min',\n",
       " '5-10min',\n",
       " '10-15min',\n",
       " '15-20min',\n",
       " 'trip_speed',\n",
       " 'duration_bin']"
      ]
     },
     "execution_count": 111,
     "metadata": {},
     "output_type": "execute_result"
    }
   ],
   "source": [
    "df.columns"
   ]
  },
  {
   "cell_type": "code",
   "execution_count": null,
   "id": "4b9b2e63",
   "metadata": {},
   "outputs": [
    {
     "name": "stdout",
     "output_type": "stream",
     "text": [
      "+-------------+------------------+\n",
      "|trip_duration|        prediction|\n",
      "+-------------+------------------+\n",
      "|            3| 478.7379836259112|\n",
      "|           28| 478.7379836259112|\n",
      "|           45| 478.7379836259112|\n",
      "|          284| 478.7379836259112|\n",
      "|          957| 478.7379836259112|\n",
      "|            3| 483.2277034430065|\n",
      "|          577| 483.2277034430065|\n",
      "|            5|487.71742326010167|\n",
      "|           49| 492.2071430771969|\n",
      "|           67| 492.2071430771969|\n",
      "+-------------+------------------+\n",
      "only showing top 10 rows\n",
      "\n"
     ]
    }
   ],
   "source": [
    "from pyspark.ml.feature import VectorAssembler\n",
    "from pyspark.ml.regression import LinearRegression\n",
    "\n",
    "# Select features and drop nulls\n",
    "model_df = df.select(\"passenger_count\", \"distance\", F.hour(\"pickup_datetime\").alias('pickup_hour'), \"trip_duration\") \\\n",
    "    .dropna()\n",
    "\n",
    "assembler = VectorAssembler(\n",
    "    inputCols=[\"passenger_count\", \"distance\", \"pickup_hour\"],\n",
    "    outputCol=\"features\"\n",
    ")\n",
    "model_data = assembler.transform(model_df).select(\"features\", \"trip_duration\")\n",
    "\n",
    "# Train-test split and model\n",
    "train, test = model_data.randomSplit([0.8, 0.2], seed=42)\n",
    "lr = LinearRegression(featuresCol=\"features\", labelCol=\"trip_duration\")\n",
    "lr_model = lr.fit(train)\n",
    "\n",
    "# Evaluate\n",
    "predictions = lr_model.transform(test)\n",
    "predictions.select(\"trip_duration\", \"prediction\").show(10)"
   ]
  },
  {
   "cell_type": "code",
   "execution_count": null,
   "id": "53522635",
   "metadata": {},
   "outputs": [
    {
     "name": "stdout",
     "output_type": "stream",
     "text": [
      "+-----------------------------+-------------+\n",
      "|features                     |trip_duration|\n",
      "+-----------------------------+-------------+\n",
      "|[1.0,1.4985207796469109,17.0]|455          |\n",
      "|[1.0,1.8055071687958897,0.0] |663          |\n",
      "|[1.0,6.385098495252496,11.0] |2124         |\n",
      "|[1.0,1.4854984227709382,19.0]|429          |\n",
      "|[1.0,1.1885884593338851,13.0]|435          |\n",
      "+-----------------------------+-------------+\n",
      "only showing top 5 rows\n",
      "\n"
     ]
    }
   ],
   "source": [
    "model_data.show(5, truncate=False)"
   ]
  }
 ],
 "metadata": {
  "kernelspec": {
   "display_name": "3.10.11",
   "language": "python",
   "name": "python3"
  },
  "language_info": {
   "codemirror_mode": {
    "name": "ipython",
    "version": 3
   },
   "file_extension": ".py",
   "mimetype": "text/x-python",
   "name": "python",
   "nbconvert_exporter": "python",
   "pygments_lexer": "ipython3",
   "version": "3.10.11"
  }
 },
 "nbformat": 4,
 "nbformat_minor": 5
}
